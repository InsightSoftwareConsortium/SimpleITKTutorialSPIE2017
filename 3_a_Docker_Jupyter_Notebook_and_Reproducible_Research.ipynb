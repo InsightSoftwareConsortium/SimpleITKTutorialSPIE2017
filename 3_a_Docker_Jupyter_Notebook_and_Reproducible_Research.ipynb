{
 "cells": [
  {
   "cell_type": "markdown",
   "metadata": {
    "internals": {
     "slide_type": "subslide"
    },
    "slideshow": {
     "slide_type": "slide"
    }
   },
   "source": [
    "# Docker and Jupyter Notebooks for Reproducible Research\n",
    "\n",
    "<b>Goal</b>: To understand what Docker is and how it can be used with Jupyter notebooks for reproducible research.\n",
    "\n",
    "Docker is technological tool that creates high performance, shareable, reproducible computational environments. Jupyter notebooks are tools for interactive analysis that interweave prose, code, and results. Together, Docker and Jupyter notebooks are best-of-breed methods to create research that is reproducible."
   ]
  },
  {
   "cell_type": "code",
   "execution_count": null,
   "metadata": {
    "collapsed": false,
    "internals": {
     "slide_helper": "subslide_end"
    },
    "slide_helper": "slide_end",
    "slideshow": {
     "slide_type": "skip"
    }
   },
   "outputs": [],
   "source": [
    "#Imports for running this presentation live\n",
    "\n",
    "from ipywidgets import interact, interactive\n",
    "from IPython.display import clear_output, display, HTML, YouTubeVideo\n",
    "\n",
    "import numpy as np\n",
    "\n",
    "from matplotlib import pyplot as plt\n",
    "from mpl_toolkits.mplot3d import Axes3D\n",
    "from matplotlib.colors import cnames\n",
    "from matplotlib import animation\n",
    "\n",
    "%matplotlib inline\n",
    "\n",
    "!docker info\n",
    "!docker load -i busybox.dockerarchive.tar"
   ]
  },
  {
   "cell_type": "markdown",
   "metadata": {
    "internals": {
     "slide_helper": "subslide_end",
     "slide_type": "subslide"
    },
    "slide_helper": "subslide_end",
    "slideshow": {
     "slide_type": "slide"
    }
   },
   "source": [
    "# The Problem"
   ]
  },
  {
   "cell_type": "markdown",
   "metadata": {
    "internals": {
     "slide_helper": "subslide_end",
     "slide_type": "subslide"
    },
    "slide_helper": "subslide_end",
    "slideshow": {
     "slide_type": "subslide"
    }
   },
   "source": [
    "Even though computers are often considered deterministic, **computational software is a rapidly evolving and changing landscape**. Libraries are constantly adding new features and fixing issues. \n",
    "\n",
    "<img src=\"Data/PythonStoryline.svg\" width=700>\n",
    "\n",
    "Image source: http://www.michaelogawa.com/research/storylines/"
   ]
  },
  {
   "cell_type": "markdown",
   "metadata": {
    "internals": {
     "slide_helper": "subslide_end",
     "slide_type": "subslide"
    },
    "slide_helper": "subslide_end",
    "slideshow": {
     "slide_type": "subslide"
    }
   },
   "source": [
    "Even libraries with the strictest backwards-compatibility policies can **change in significant ways**.\n",
    "<img src=\"Data/BackwardsCompatibility.png\" width=\"600px\">\n",
    "\n",
    "Image source: http://www.bonkersworld.net/backwards-compatibility/"
   ]
  },
  {
   "cell_type": "markdown",
   "metadata": {
    "internals": {
     "slide_helper": "subslide_end",
     "slide_type": "subslide"
    },
    "slide_helper": "subslide_end",
    "slideshow": {
     "slide_type": "subslide"
    }
   },
   "source": [
    "A **reproducible computational environment** has a *sufficiently consistent state for the computational task at hand*.\n",
    "\n",
    "For example, this can consist of\n",
    "\n",
    "- a similar CPU instruction set\n",
    "- libraries and executables available with a specific version and configuration options\n",
    "- a specific version of a given compiler\n",
    "- a specific version of a libc implementation\n",
    "- a specific version of the C++ standard library"
   ]
  },
  {
   "cell_type": "markdown",
   "metadata": {
    "internals": {
     "slide_helper": "subslide_end",
     "slide_type": "subslide"
    },
    "slide_helper": "subslide_end",
    "slideshow": {
     "slide_type": "subslide"
    }
   },
   "source": [
    "## Close But Not Good Enough"
   ]
  },
  {
   "cell_type": "markdown",
   "metadata": {
    "internals": {
     "slide_type": "subslide"
    },
    "slideshow": {
     "slide_type": "subslide"
    }
   },
   "source": [
    "### Source code\n",
    "\n",
    "Does not include:\n",
    "\n",
    "- Compiler\n",
    "- Hardware it was built on\n",
    "- How it is configured\n",
    "- Package dependencies\n",
    "- Run-time environment\n",
    "- How to run it"
   ]
  },
  {
   "cell_type": "markdown",
   "metadata": {
    "internals": {
     "frag_number": 8,
     "slide_helper": "subslide_end"
    },
    "slide_helper": "subslide_end",
    "slideshow": {
     "slide_type": "fragment"
    }
   },
   "source": [
    "<img src=\"Data/ConfusedCat.jpg\" width=\"400px\">\n",
    "\n",
    "Image source: https://www.youtube.com/watch?v=g1LgVfV5_ZQ\n"
   ]
  },
  {
   "cell_type": "markdown",
   "metadata": {
    "internals": {
     "frag_helper": "fragment_end",
     "frag_number": 8,
     "slide_helper": "subslide_end",
     "slide_type": "subslide"
    },
    "slide_helper": "subslide_end",
    "slideshow": {
     "slide_type": "subslide"
    }
   },
   "source": [
    "### Package managers and distributions\n",
    "\n",
    "- There is not a consensus on *the* package manager\n",
    "- Packages become unsupported over time\n",
    "- What to do if a required library is not packaged?"
   ]
  },
  {
   "cell_type": "markdown",
   "metadata": {
    "internals": {
     "frag_helper": "fragment_end",
     "frag_number": 8,
     "slide_helper": "subslide_end",
     "slide_type": "subslide"
    },
    "slide_helper": "subslide_end",
    "slideshow": {
     "slide_type": "subslide"
    }
   },
   "source": [
    "### Virtual machines (VMs)\n",
    "\n",
    "- Inefficient utilization of computational resources\n",
    "\n",
    "<img src=\"Data/CarJam.jpg\">\n",
    "\n",
    "Image source: http://time-az.com/images/2014/02/20140203carjam.jpg"
   ]
  },
  {
   "cell_type": "markdown",
   "metadata": {
    "internals": {
     "frag_helper": "fragment_end",
     "frag_number": 8,
     "slide_type": "subslide"
    },
    "slideshow": {
     "slide_type": "subslide"
    }
   },
   "source": [
    "# Enter Linux Containers\n",
    "\n",
    "![Docker logo](Data/DockerLogo.png)\n",
    "\n",
    "[Linux container systems](http://www.google.com/url?q=http%3A%2F%2Fwww.infoworld.com%2Farticle%2F2938638%2Fapplication-virtualization%2Fdocker-donates-its-container-specs-for-opc-open-standard.html&sa=D&sntz=1&usg=AFQjCNGrI-KxvoAN_waSazod5U1sPo0sVw) , like Docker, are new type of tool to easily build, ship, and run reproducible, binary applications.  \n",
    "\n",
    "It is \"good enough\" for a reproducible computational environment.\n",
    "\n",
    "In this talk, we will introduce Docker from the perspective a scientific research software engineer.  We will\n"
   ]
  },
  {
   "cell_type": "markdown",
   "metadata": {
    "internals": {
     "frag_helper": "fragment_end",
     "frag_number": 12
    },
    "slideshow": {
     "slide_type": "fragment"
    }
   },
   "source": [
    "- Generate an understanding of what Docker is by comparing it to existing technologies."
   ]
  },
  {
   "cell_type": "markdown",
   "metadata": {
    "internals": {
     "frag_helper": "fragment_end",
     "frag_number": 13
    },
    "slideshow": {
     "slide_type": "fragment"
    }
   },
   "source": [
    "- Give an introduction to basic Docker concepts."
   ]
  },
  {
   "cell_type": "markdown",
   "metadata": {
    "internals": {
     "frag_helper": "fragment_end",
     "frag_number": 14,
     "slide_helper": "subslide_end"
    },
    "slide_helper": "slide_end",
    "slideshow": {
     "slide_type": "fragment"
    }
   },
   "source": [
    "- Describe how Docker fits into the scientific analysis workflow with Jupyter notebooks."
   ]
  },
  {
   "cell_type": "markdown",
   "metadata": {
    "internals": {
     "frag_helper": "fragment_end",
     "frag_number": 14,
     "slide_helper": "subslide_end",
     "slide_type": "subslide"
    },
    "slide_helper": "subslide_end",
    "slideshow": {
     "slide_type": "slide"
    }
   },
   "source": [
    "# Understanding Docker\n",
    "\n",
    "### Not just this cute whale thing"
   ]
  },
  {
   "cell_type": "markdown",
   "metadata": {
    "internals": {
     "frag_helper": "fragment_end",
     "frag_number": 14,
     "slide_type": "subslide"
    },
    "slideshow": {
     "slide_type": "subslide"
    }
   },
   "source": [
    "Docker is an open-source engine that automates the deployment of any application as a **lightweight**, **portable**, **self-sufficient container** that will run virtually anywhere.\n",
    "\n",
    "\n"
   ]
  },
  {
   "cell_type": "code",
   "execution_count": 2,
   "metadata": {
    "collapsed": false,
    "internals": {
     "frag_helper": "fragment_end",
     "frag_number": 14,
     "slide_helper": "subslide_end"
    },
    "slide_helper": "subslide_end",
    "slideshow": {
     "slide_type": "fragment"
    }
   },
   "outputs": [
    {
     "name": "stdout",
     "output_type": "stream",
     "text": [
      "Hello Docker World!\r\n"
     ]
    }
   ],
   "source": [
    "!docker run --rm busybox sh -c 'echo \"Hello Docker World!\"'"
   ]
  },
  {
   "cell_type": "markdown",
   "metadata": {
    "internals": {
     "frag_helper": "fragment_end",
     "frag_number": 14,
     "slide_helper": "subslide_end",
     "slide_type": "subslide"
    },
    "slide_helper": "subslide_end",
    "slideshow": {
     "slide_type": "subslide"
    }
   },
   "source": [
    "### Docker is a combination of a:\n",
    "\n",
    "1. **Sandboxed chroot**\n",
    "2. **Copy on write filesystem**\n",
    "3. **Distributed VCS for binaries**"
   ]
  },
  {
   "cell_type": "markdown",
   "metadata": {
    "internals": {
     "frag_helper": "fragment_end",
     "frag_number": 14,
     "slide_helper": "subslide_end",
     "slide_type": "subslide"
    },
    "slide_helper": "subslide_end",
    "slideshow": {
     "slide_type": "subslide"
    }
   },
   "source": [
    "## Sandboxed chroot"
   ]
  },
  {
   "cell_type": "markdown",
   "metadata": {
    "internals": {
     "frag_helper": "fragment_end",
     "frag_number": 14,
     "slide_helper": "subslide_end",
     "slide_type": "subslide"
    },
    "slide_helper": "subslide_end",
    "slideshow": {
     "slide_type": "subslide"
    }
   },
   "source": [
    "Docker works with images that **consume minimal disk space**, **versioned**, **archiveable**, and **shareable**. Executing applications in these images does not require dedicated resources and is **high performance**.\n",
    "\n",
    "It works with **containers** as opposed to **virtual machines** (VM's).\n",
    "\n",
    "<img src=\"Data/DockerVM.jpg\" width=\"600\">"
   ]
  },
  {
   "cell_type": "code",
   "execution_count": 4,
   "metadata": {
    "collapsed": false,
    "internals": {
     "frag_helper": "fragment_end",
     "frag_number": 14,
     "slide_type": "subslide"
    },
    "slideshow": {
     "slide_type": "subslide"
    }
   },
   "outputs": [
    {
     "name": "stdout",
     "output_type": "stream",
     "text": [
      "Hello Docker World!\n",
      "CPU times: user 8 ms, sys: 0 ns, total: 8 ms\n",
      "Wall time: 950 ms\n"
     ]
    }
   ],
   "source": [
    "%time !docker run --rm busybox sh -c 'echo \"Hello Docker World!\"'"
   ]
  },
  {
   "cell_type": "markdown",
   "metadata": {
    "internals": {
     "frag_helper": "fragment_end",
     "frag_number": 14,
     "slide_helper": "subslide_end"
    },
    "slide_helper": "subslide_end",
    "slideshow": {
     "slide_type": "subslide"
    }
   },
   "source": [
    "A Docker container is similar to a running an application in a *chroot*, but it sandboxes processes and the network stack with Linux kernel:\n",
    "\n",
    "* **Namespaces**: isolated processes, networking, messaging, file systems, hostname's\n",
    "* **CGroups**: groups together cpu, memory, and IO resources\n",
    "\n",
    "<img src=\"Data/Chroot.png\" width=\"600px\">"
   ]
  },
  {
   "cell_type": "markdown",
   "metadata": {
    "internals": {
     "frag_helper": "fragment_end",
     "frag_number": 14,
     "slide_helper": "subslide_end",
     "slide_type": "subslide"
    },
    "slide_helper": "subslide_end",
    "slideshow": {
     "slide_type": "subslide"
    }
   },
   "source": [
    "## Copy on Write Filesystem\n",
    "\n",
    "**Union file systems**, or UnionFS, are file systems that operate by **creating layers**, making them very **lightweight** and **fast** while **saving disk space**.\n",
    "\n",
    "Docker can make use of several union file system variants including: \n",
    "\n",
    "- AUFS\n",
    "- btrfs\n",
    "- vfs\n",
    "- DeviceMapper\n",
    "\n",
    "<table border=\"0\">\n",
    "<tr>\n",
    "<th><img src=\"Data/LayerCake.jpg\" width=\"300px\"></th>\n",
    "<th><img src=\"Data/DockerFilesystems.svg\" width=\"400px\"></th>\n",
    "</tr>\n",
    "</table>\n"
   ]
  },
  {
   "cell_type": "markdown",
   "metadata": {
    "internals": {
     "frag_helper": "fragment_end",
     "frag_number": 14,
     "slide_type": "subslide"
    },
    "slideshow": {
     "slide_type": "subslide"
    }
   },
   "source": [
    "## Distributed VCS for binaries\n",
    "\n",
    "### Docker is like Git for binaries\n",
    "\n"
   ]
  },
  {
   "cell_type": "code",
   "execution_count": 5,
   "metadata": {
    "collapsed": false,
    "internals": {
     "frag_helper": "fragment_end",
     "frag_number": 14
    },
    "slideshow": {
     "slide_type": "fragment"
    }
   },
   "outputs": [
    {
     "name": "stdout",
     "output_type": "stream",
     "text": [
      "NAME                                        DESCRIPTION                                     STARS     OFFICIAL   AUTOMATED\r\n",
      "pitkley/samba-ad-dc                         Samba4 Active Directory Domain Controller ...   1                    [OK]\r\n",
      "insighttoolkit/itk-bin-testing                                                              1                    [OK]\r\n",
      "insighttoolkit/itk-bin-examples                                                             1                    [OK]\r\n",
      "businessdecision/itkg                       Interakting Docker base images                  1                    [OK]\r\n",
      "insighttoolkit/itk-bin                                                                      1                    [OK]\r\n",
      "itkj/cloud-sdk-appengine-go-godep           google/cloud-sdk + GAE/Go SDK + Godep           1                    [OK]\r\n",
      "insighttoolkit/itk-dashboard                                                                0                    [OK]\r\n",
      "chitkiu1/rocket.chat                        аисвввв                                         0                    [OK]\r\n",
      "mdavezac/itk                                Minimal ensight toolkit                         0                    \r\n",
      "insighttoolkit/itksoftwareguide-base                                                        0                    [OK]\r\n",
      "insighttoolkit/itksoftwareguide-dashboard                                                   0                    [OK]\r\n",
      "insighttoolkit/itksoftwareguide-src                                                         0                    [OK]\r\n",
      "jamespshields/agitk-sample-base             This sample base image includes replicatio...   0                    [OK]\r\n",
      "insighttoolkit/itksoftwareguide-edit                                                        0                    [OK]\r\n",
      "insighttoolkit/itksoftwareguide-html                                                        0                    [OK]\r\n",
      "itkj/nginx                                  nginx + http2 + lua                             0                    [OK]\r\n",
      "rogerkerse/itk-smartcare-build                                                              0                    \r\n",
      "insighttoolkit/itksoftwareguide-bin                                                         0                    [OK]\r\n",
      "bpierre/ubuntu-uitk-gallery                 Ubuntu UITK Gallery                             0                    [OK]\r\n",
      "pypi/witkets                                witkets PyPi package based on python:3          0                    [OK]\r\n",
      "insighttoolkit/itk-base                                                                     0                    [OK]\r\n",
      "insighttoolkit/itk-data                                                                     0                    [OK]\r\n",
      "insighttoolkit/itk-src                                                                      0                    [OK]\r\n",
      "pitkley/jenkins-slave-texlive-personal      Jenkins-slave (either regular slave or Swa...   0                    [OK]\r\n",
      "pitkley/python-swarm                        Python on a Jenkins Swarm slave                 0                    [OK]\r\n"
     ]
    }
   ],
   "source": [
    "!docker search itk"
   ]
  },
  {
   "cell_type": "markdown",
   "metadata": {
    "internals": {
     "frag_helper": "fragment_end",
     "frag_number": 26
    },
    "slideshow": {
     "slide_type": "fragment"
    }
   },
   "source": [
    "- Docker images are identified with hex string or tags\n",
    "- Interface is `docker <subcommand>`\n",
    "- `docker push`, `docker pull`, `docker tag`\n",
    "- `docker export` will create a archiveable tarball of an image's filesystem.\n",
    "- DockerHub is like GitHub"
   ]
  },
  {
   "cell_type": "markdown",
   "metadata": {
    "internals": {
     "frag_helper": "fragment_end",
     "frag_number": 27,
     "slide_helper": "subslide_end"
    },
    "slide_helper": "slide_end",
    "slideshow": {
     "slide_type": "fragment"
    }
   },
   "source": [
    "<img src=\"Data/DockerHub.png\" width=\"400px\">"
   ]
  },
  {
   "cell_type": "markdown",
   "metadata": {
    "internals": {
     "frag_helper": "fragment_end",
     "frag_number": 27,
     "slide_type": "subslide"
    },
    "slideshow": {
     "slide_type": "slide"
    }
   },
   "source": [
    "### Installing\n",
    "\n",
    "Here's what you need:\n",
    "\n",
    "- Linux kernel with control groups and namespaces\n",
    "- Support for a layered filesystem (like AUFS)\n",
    "- Docker Daemon / Server (written in Go)\n",
    "\n",
    "<img src=\"Data/MasonJar.jpg\" width=\"600px\">"
   ]
  },
  {
   "cell_type": "markdown",
   "metadata": {
    "internals": {
     "frag_helper": "fragment_end",
     "frag_number": 27
    },
    "slideshow": {
     "slide_type": "subslide"
    }
   },
   "source": [
    "#### |Linux\n",
    "\n",
    "- Ubuntu 14.04 *or*\n",
    "- See [Docker installation instructions](http://docs.docker.com/installation/) for distributions with Kernel 3.8 + later *or*\n",
    "- [Kernel configuration instructions](https://wiki.gentoo.org/wiki/LXC)"
   ]
  },
  {
   "cell_type": "markdown",
   "metadata": {
    "internals": {
     "frag_helper": "fragment_end",
     "frag_number": 27,
     "slide_helper": "subslide_end"
    },
    "slide_helper": "slide_end",
    "slideshow": {
     "slide_type": "fragment"
    }
   },
   "source": [
    "#### Windows and Mac\n",
    "\n",
    "[Docker Machine](https://docs.docker.com/machine/overview/)\n",
    "\n",
    "* easy install of\n",
    "  - Git Bash\n",
    "  - VirtualBox\n",
    "  - Lightweight Linux distribution\n",
    "  - Docker\n",
    "\n",
    "* Mac OSX users can use the Docker client from the Mac bash shell\n",
    "* Comes with busybox shell -> Write your Docker build.sh and run.sh in Bourne shell"
   ]
  },
  {
   "cell_type": "markdown",
   "metadata": {
    "internals": {
     "frag_helper": "fragment_end",
     "frag_number": 27,
     "slide_helper": "subslide_end",
     "slide_type": "subslide"
    },
    "slide_helper": "subslide_end",
    "slideshow": {
     "slide_type": "slide"
    }
   },
   "source": [
    "# Docker Concepts"
   ]
  },
  {
   "cell_type": "markdown",
   "metadata": {
    "internals": {
     "frag_helper": "fragment_end",
     "frag_number": 27,
     "slide_type": "subslide"
    },
    "slideshow": {
     "slide_type": "subslide"
    }
   },
   "source": [
    "## Image\n",
    " \n",
    "### A read-only file system layer"
   ]
  },
  {
   "cell_type": "markdown",
   "metadata": {
    "internals": {
     "frag_helper": "fragment_end",
     "frag_number": 33,
     "slide_helper": "subslide_end"
    },
    "slide_helper": "subslide_end",
    "slideshow": {
     "slide_type": "fragment"
    }
   },
   "source": [
    "<img src=\"Data/DockerFilesystemsBusybox.png\" width=\"600px\">"
   ]
  },
  {
   "cell_type": "code",
   "execution_count": 6,
   "metadata": {
    "collapsed": false,
    "internals": {
     "frag_helper": "fragment_end",
     "frag_number": 33,
     "slide_helper": "subslide_end",
     "slide_type": "subslide"
    },
    "slide_helper": "subslide_end",
    "slideshow": {
     "slide_type": "subslide"
    }
   },
   "outputs": [
    {
     "name": "stdout",
     "output_type": "stream",
     "text": [
      "REPOSITORY          TAG                 IMAGE ID            CREATED             VIRTUAL SIZE\r\n",
      "busybox             latest              65e4158d9625        10 days ago         1.114 MB\r\n"
     ]
    }
   ],
   "source": [
    "!docker images"
   ]
  },
  {
   "cell_type": "markdown",
   "metadata": {
    "internals": {
     "frag_helper": "fragment_end",
     "frag_number": 33,
     "slide_type": "subslide"
    },
    "slideshow": {
     "slide_type": "subslide"
    }
   },
   "source": [
    "## Container\n",
    "\n",
    "### An modifiable image with processes running in memory, or an exited container with a modified filesystem"
   ]
  },
  {
   "cell_type": "markdown",
   "metadata": {
    "internals": {
     "frag_helper": "fragment_end",
     "frag_number": 36,
     "slide_helper": "subslide_end"
    },
    "slide_helper": "subslide_end",
    "slideshow": {
     "slide_type": "fragment"
    }
   },
   "source": [
    "<img src=\"Data/DockerFilesystemsBusybox.png\" width=\"600px\">"
   ]
  },
  {
   "cell_type": "code",
   "execution_count": 7,
   "metadata": {
    "collapsed": false,
    "internals": {
     "frag_helper": "fragment_end",
     "frag_number": 36,
     "slide_type": "subslide"
    },
    "slideshow": {
     "slide_type": "subslide"
    }
   },
   "outputs": [
    {
     "name": "stdout",
     "output_type": "stream",
     "text": [
      "CONTAINER ID        IMAGE               COMMAND             CREATED             STATUS              PORTS               NAMES\r\n"
     ]
    }
   ],
   "source": [
    "!docker ps"
   ]
  },
  {
   "cell_type": "code",
   "execution_count": 8,
   "metadata": {
    "collapsed": false,
    "internals": {
     "frag_helper": "fragment_end",
     "frag_number": 38
    },
    "slideshow": {
     "slide_type": "fragment"
    }
   },
   "outputs": [
    {
     "name": "stdout",
     "output_type": "stream",
     "text": [
      "06fcb48ae8f17f18b1727c998c003c697cd2f4d292ca096624485291b617571b\r\n"
     ]
    }
   ],
   "source": [
    "!docker run -d busybox sh -c 'sleep 3'"
   ]
  },
  {
   "cell_type": "code",
   "execution_count": 10,
   "metadata": {
    "collapsed": false,
    "internals": {
     "frag_helper": "fragment_end",
     "frag_number": 39
    },
    "slideshow": {
     "slide_type": "fragment"
    }
   },
   "outputs": [
    {
     "name": "stdout",
     "output_type": "stream",
     "text": [
      "CONTAINER ID        IMAGE               COMMAND             CREATED             STATUS              PORTS               NAMES\r\n"
     ]
    }
   ],
   "source": [
    "!docker ps"
   ]
  },
  {
   "cell_type": "code",
   "execution_count": 11,
   "metadata": {
    "collapsed": false,
    "internals": {
     "frag_helper": "fragment_end",
     "frag_number": 40,
     "slide_helper": "subslide_end"
    },
    "slide_helper": "subslide_end",
    "slideshow": {
     "slide_type": "fragment"
    }
   },
   "outputs": [
    {
     "name": "stdout",
     "output_type": "stream",
     "text": [
      "CONTAINER ID        IMAGE               COMMAND             CREATED             STATUS                      PORTS               NAMES\r\n",
      "06fcb48ae8f1        busybox             \"sh -c 'sleep 3'\"   23 seconds ago      Exited (0) 19 seconds ago                       berserk_newton\r\n"
     ]
    }
   ],
   "source": [
    "!docker ps -a"
   ]
  },
  {
   "cell_type": "markdown",
   "metadata": {
    "internals": {
     "frag_helper": "fragment_end",
     "frag_number": 40,
     "slide_type": "subslide"
    },
    "slideshow": {
     "slide_type": "subslide"
    }
   },
   "source": [
    "## Volume\n",
    "\n",
    "### A directory within one or more containers that bypasses the Union File System\n",
    "\n",
    "* Data volumes are initialized when a container is created\n",
    "* Volumes can be shared and reused between containers\n",
    "* Changes to a data volume are made directly\n",
    "* Changes to a data volume will not be included when you update an image\n",
    "* Volume persist until no containers use them\n",
    "* Host directories can also be mounted as data volumes"
   ]
  },
  {
   "cell_type": "markdown",
   "metadata": {
    "collapsed": true,
    "internals": {
     "frag_helper": "fragment_end",
     "frag_number": 40
    },
    "slideshow": {
     "slide_type": "fragment"
    }
   },
   "source": [
    "### Why use a data volume?\n",
    "\n",
    "* Store and share data\n",
    "* Expose data or code from the host to the Docker computational environment"
   ]
  },
  {
   "cell_type": "markdown",
   "metadata": {
    "internals": {
     "frag_helper": "fragment_end",
     "frag_number": 40
    },
    "slideshow": {
     "slide_type": "subslide"
    }
   },
   "source": [
    "## Dockerfile\n",
    "\n",
    "### A sequence of instructions to generate a Docker image"
   ]
  },
  {
   "cell_type": "code",
   "execution_count": 12,
   "metadata": {
    "collapsed": true,
    "slideshow": {
     "slide_type": "fragment"
    }
   },
   "outputs": [],
   "source": [
    "!mkdir -p docker-ls-data\n",
    "!cp $PWD/Data/*.png docker-ls-data/"
   ]
  },
  {
   "cell_type": "code",
   "execution_count": 13,
   "metadata": {
    "collapsed": false,
    "internals": {
     "frag_helper": "fragment_end",
     "frag_number": 40
    },
    "slideshow": {
     "slide_type": "fragment"
    }
   },
   "outputs": [
    {
     "name": "stdout",
     "output_type": "stream",
     "text": [
      "Overwriting docker-ls-data/Dockerfile\n"
     ]
    }
   ],
   "source": [
    "%%writefile docker-ls-data/Dockerfile\n",
    "\n",
    "FROM busybox\n",
    "MAINTAINER Matt McCormick <matt.mccormick@kitware.com>\n",
    "RUN mkdir -p /Data\n",
    "ADD *.png /Data/\n",
    "VOLUME /Data\n",
    "CMD [\"/bin/sh\", \"-c\", \"ls /Data\"]"
   ]
  },
  {
   "cell_type": "code",
   "execution_count": 14,
   "metadata": {
    "collapsed": false,
    "internals": {
     "frag_helper": "fragment_end",
     "frag_number": 40
    },
    "slideshow": {
     "slide_type": "subslide"
    }
   },
   "outputs": [
    {
     "name": "stdout",
     "output_type": "stream",
     "text": [
      "Sending build context to Docker daemon 1.252 MB\n",
      "Step 1 : FROM busybox\n",
      " ---> 65e4158d9625\n",
      "Step 2 : MAINTAINER Matt McCormick <matt.mccormick@kitware.com>\n",
      " ---> Running in 38c48dc2d406\n",
      " ---> b96fb10c253e\n",
      "Removing intermediate container 38c48dc2d406\n",
      "Step 3 : RUN mkdir -p /Data\n",
      " ---> Running in cdd5148e8620\n",
      " ---> 218e55546268\n",
      "Removing intermediate container cdd5148e8620\n",
      "Step 4 : ADD *.png /Data/\n",
      " ---> 8995b0829c1c\n",
      "Removing intermediate container eab99e441323\n",
      "Step 5 : VOLUME /Data\n",
      " ---> Running in a34db940bc7a\n",
      " ---> 85d12a9b4a39\n",
      "Removing intermediate container a34db940bc7a\n",
      "Step 6 : CMD /bin/sh -c ls /Data\n",
      " ---> Running in 071760d6bcae\n",
      " ---> b221b5c1a4fe\n",
      "Removing intermediate container 071760d6bcae\n",
      "Successfully built b221b5c1a4fe\n"
     ]
    }
   ],
   "source": [
    "!docker build -t ls-data ./docker-ls-data"
   ]
  },
  {
   "cell_type": "code",
   "execution_count": 15,
   "metadata": {
    "collapsed": false,
    "internals": {
     "frag_helper": "fragment_end",
     "frag_number": 40
    },
    "slideshow": {
     "slide_type": "fragment"
    }
   },
   "outputs": [
    {
     "name": "stdout",
     "output_type": "stream",
     "text": [
      "BackwardsCompatibility.png\r\n",
      "Chroot.png\r\n",
      "Debian.png\r\n",
      "DockerFilesystemsBusybox.png\r\n",
      "DockerHub.png\r\n",
      "DockerLogo.png\r\n",
      "Jupyter.png\r\n",
      "Liar.png\r\n"
     ]
    }
   ],
   "source": [
    "!docker run --rm ls-data"
   ]
  },
  {
   "cell_type": "markdown",
   "metadata": {
    "internals": {
     "frag_helper": "fragment_end",
     "frag_number": 40,
     "slide_helper": "subslide_end",
     "slide_type": "subslide"
    },
    "slide_helper": "subslide_end",
    "slideshow": {
     "slide_type": "slide"
    }
   },
   "source": [
    "## Scientific Research with Docker Notebook"
   ]
  },
  {
   "cell_type": "markdown",
   "metadata": {
    "internals": {
     "frag_helper": "fragment_end",
     "frag_number": 40,
     "slide_helper": "subslide_end",
     "slide_type": "subslide"
    },
    "slide_helper": "subslide_end",
    "slideshow": {
     "slide_type": "subslide"
    }
   },
   "source": [
    "## Graphical Applications and Docker\n",
    "\n",
    "A **portable Docker image** will only assume standard CPU/memory/disk/network resources are available. If *local USB devices* and **video card devices** are used the images will **not be runnable anywhere**.\n",
    "\n",
    "* Use [IPython / Jupyter Notebooks](http://ipython.org/notebook.html)\n",
    "* The [docker-opengl](https://github.com/thewtex/docker-opengl-nvidia)  image offers CPU-based OpenGL rendering viewable via an HTML5 VNC client.\n",
    "\n",
    "<img src=\"Data/Jupyter.png\" width=\"500px\">"
   ]
  },
  {
   "cell_type": "markdown",
   "metadata": {
    "internals": {
     "frag_helper": "fragment_end",
     "frag_number": 40,
     "slide_type": "subslide"
    },
    "slideshow": {
     "slide_type": "subslide"
    }
   },
   "source": [
    "## Choosing a base image\n",
    "\n",
    "* [debian](https://registry.hub.docker.com/_/debian/) - [Most common](https://docs.docker.com/articles/dockerfile_best-practices/) lightweight image with many packages available\n",
    "* [alpine](https://hub.docker.com/_/alpine/) Very small image\n",
    "* [ipython/notebook](https://registry.hub.docker.com/u/ipython/notebook/) - Launcher SSL / password enabled IPython notebook\n",
    "* [jupyter/tmpnb](https://registry.hub.docker.com/u/jupyter/tmpnb/) - Launches \"temporary\" Jupyter notebook servers\n",
    "* [continuumio/miniconda](https://registry.hub.docker.com/u/continuumio/miniconda/) miniconda installed\n",
    "* [nixos/nix](https://registry.hub.docker.com/u/nixos/nix/) Nix package manager installed\n",
    "* ...\n",
    "* Make your own\n",
    "\n",
    "<img src=\"Data/Debian.png\" width=\"100px\">"
   ]
  },
  {
   "cell_type": "markdown",
   "metadata": {
    "internals": {
     "frag_helper": "fragment_end",
     "frag_number": 40,
     "slide_helper": "subslide_end",
     "slide_type": "subslide"
    },
    "slide_helper": "subslide_end",
    "slideshow": {
     "slide_type": "slide"
    }
   },
   "source": [
    "# Recap and Next Steps"
   ]
  },
  {
   "cell_type": "markdown",
   "metadata": {
    "internals": {
     "frag_helper": "fragment_end",
     "frag_number": 40,
     "slide_type": "subslide"
    },
    "slideshow": {
     "slide_type": "subslide"
    }
   },
   "source": [
    "## Docker is\n"
   ]
  },
  {
   "cell_type": "markdown",
   "metadata": {
    "internals": {
     "frag_helper": "fragment_end",
     "frag_number": 56
    },
    "slideshow": {
     "slide_type": "fragment"
    }
   },
   "source": [
    "* Sandboxed chroot +"
   ]
  },
  {
   "cell_type": "markdown",
   "metadata": {
    "internals": {
     "frag_helper": "fragment_end",
     "frag_number": 57
    },
    "slideshow": {
     "slide_type": "fragment"
    }
   },
   "source": [
    "* Incremental, copy on write filesystem +"
   ]
  },
  {
   "cell_type": "markdown",
   "metadata": {
    "internals": {
     "frag_helper": "fragment_end",
     "frag_number": 58,
     "slide_helper": "subslide_end"
    },
    "slide_helper": "subslide_end",
    "slideshow": {
     "slide_type": "fragment"
    }
   },
   "source": [
    "* Distributed VCS for binaries +"
   ]
  },
  {
   "cell_type": "markdown",
   "metadata": {
    "internals": {
     "frag_helper": "fragment_end",
     "frag_number": 58,
     "slide_type": "subslide"
    },
    "slideshow": {
     "slide_type": "subslide"
    }
   },
   "source": [
    "## Concepts"
   ]
  },
  {
   "cell_type": "markdown",
   "metadata": {
    "internals": {
     "frag_helper": "fragment_end",
     "frag_number": 60
    },
    "slideshow": {
     "slide_type": "fragment"
    }
   },
   "source": [
    "* *Image*:  A read-only file system layer"
   ]
  },
  {
   "cell_type": "markdown",
   "metadata": {
    "internals": {
     "frag_helper": "fragment_end",
     "frag_number": 61
    },
    "slideshow": {
     "slide_type": "fragment"
    }
   },
   "source": [
    "* *Container*: A writable image with processes running in memory, or an exited container with a modified filesystem"
   ]
  },
  {
   "cell_type": "markdown",
   "metadata": {
    "internals": {
     "frag_helper": "fragment_end",
     "frag_number": 62
    },
    "slideshow": {
     "slide_type": "fragment"
    }
   },
   "source": [
    "* *Volume*: A mounted directory that is not tracked as a filesystem layer"
   ]
  },
  {
   "cell_type": "markdown",
   "metadata": {
    "internals": {
     "frag_helper": "fragment_end",
     "frag_number": 62,
     "slide_helper": "subslide_end"
    },
    "slide_helper": "subslide_end",
    "slideshow": {
     "slide_type": "skip"
    }
   },
   "source": [
    "* *Dockerfile*: A sequence of instructions to generate a Docker image"
   ]
  },
  {
   "cell_type": "markdown",
   "metadata": {
    "internals": {
     "frag_helper": "fragment_end",
     "frag_number": 62,
     "slide_type": "subslide"
    },
    "slideshow": {
     "slide_type": "subslide"
    }
   },
   "source": [
    "## Scientific Python and Docker"
   ]
  },
  {
   "cell_type": "markdown",
   "metadata": {
    "internals": {
     "frag_helper": "fragment_end",
     "frag_number": 65
    },
    "slideshow": {
     "slide_type": "fragment"
    }
   },
   "source": [
    "* Not for graphical applications, especially OpenGL "
   ]
  },
  {
   "cell_type": "markdown",
   "metadata": {
    "internals": {
     "frag_helper": "fragment_end",
     "frag_number": 66
    },
    "slideshow": {
     "slide_type": "fragment"
    }
   },
   "source": [
    "* Reproducible computational environment for IPython notebook"
   ]
  },
  {
   "cell_type": "markdown",
   "metadata": {
    "internals": {
     "frag_helper": "fragment_end",
     "frag_number": 67,
     "slide_helper": "subslide_end"
    },
    "slide_helper": "subslide_end",
    "slideshow": {
     "slide_type": "fragment"
    }
   },
   "source": [
    "* Use with Linux-based packaging system of your choice"
   ]
  },
  {
   "cell_type": "markdown",
   "metadata": {
    "internals": {
     "frag_helper": "fragment_end",
     "frag_number": 67,
     "slide_type": "subslide"
    },
    "slideshow": {
     "slide_type": "subslide"
    }
   },
   "source": [
    "## Learn more!"
   ]
  },
  {
   "cell_type": "markdown",
   "metadata": {
    "internals": {
     "frag_helper": "fragment_end",
     "frag_number": 69,
     "slide_helper": "subslide_end"
    },
    "slide_helper": "subslide_end",
    "slideshow": {
     "slide_type": "fragment"
    }
   },
   "source": [
    "* [Interactive Brower-Based Docker Tutorial](https://www.docker.com/tryit/)\n",
    "* [Docker Documentation](https://docs.docker.com/userguide/)\n",
    "* [Reproducible Research: Walking the Walk Tutorial](https://reproducible-research.github.io/scipy-tutorial-2014/)\n",
    "* [IPython DockerHub Repositories](https://registry.hub.docker.com/repos/ipython/)"
   ]
  },
  {
   "cell_type": "markdown",
   "metadata": {
    "internals": {
     "frag_helper": "fragment_end",
     "frag_number": 69,
     "slide_helper": "subslide_end",
     "slide_type": "subslide"
    },
    "slide_helper": "subslide_end",
    "slideshow": {
     "slide_type": "subslide"
    }
   },
   "source": [
    "## Docker vs. LXC\n",
    "\n",
    "* [LXC](https://linuxcontainers.org/) is a set of tools and API to interact with Linux kernel namespaces, cgroups, etc.\n",
    "* LXC used to be the default execution enviroment for Docker\n",
    "* Docker provides LXC function, plus:\n",
    "  - Portable deployment across machines\n",
    "  - Application-centric\n",
    "  - Automatic builds\n",
    "  - Versioning\n",
    "  - Component re-use\n",
    "  - Sharing\n",
    "  - Tool echosystem"
   ]
  },
  {
   "cell_type": "markdown",
   "metadata": {
    "internals": {
     "frag_helper": "fragment_end",
     "frag_number": 69,
     "slide_helper": "subslide_end",
     "slide_type": "subslide"
    },
    "slide_helper": "slide_end",
    "slideshow": {
     "slide_type": "subslide"
    }
   },
   "source": [
    "## Docker vs Rocket\n",
    "\n",
    "- [Rocket](https://github.com/coreos/rocket) is a container system like Docker developed by CoreOS\n",
    "- Rocket is not as mature\n",
    "- Rocket does not use a daemon/client system"
   ]
  }
 ],
 "metadata": {
  "kernelspec": {
   "display_name": "Python 3",
   "language": "python",
   "name": "python3"
  },
  "language_info": {
   "codemirror_mode": {
    "name": "ipython",
    "version": 3
   },
   "file_extension": ".py",
   "mimetype": "text/x-python",
   "name": "python",
   "nbconvert_exporter": "python",
   "pygments_lexer": "ipython3",
   "version": "3.4.2"
  }
 },
 "nbformat": 4,
 "nbformat_minor": 0
}
